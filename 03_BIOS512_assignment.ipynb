{
 "cells": [
  {
   "cell_type": "markdown",
   "id": "e9216b63-c18a-4c9b-beff-4b6b2e1b6964",
   "metadata": {},
   "source": [
    "# BIOS512 Assignment #3"
   ]
  },
  {
   "cell_type": "markdown",
   "id": "4403015e-d27f-473c-8720-088ac6db57c9",
   "metadata": {},
   "source": [
    "Import the 📈Tidyverse into your `R` session"
   ]
  },
  {
   "cell_type": "code",
   "execution_count": 26,
   "id": "2cb997c6-b57c-4198-aa5c-8be897467c7c",
   "metadata": {},
   "outputs": [
    {
     "name": "stderr",
     "output_type": "stream",
     "text": [
      "\n",
      "Attaching package: ‘scales’\n",
      "\n",
      "\n",
      "The following object is masked from ‘package:purrr’:\n",
      "\n",
      "    discard\n",
      "\n",
      "\n",
      "The following object is masked from ‘package:readr’:\n",
      "\n",
      "    col_factor\n",
      "\n",
      "\n"
     ]
    }
   ],
   "source": [
    "library('tidyverse')\n",
    "library('scales')"
   ]
  },
  {
   "cell_type": "markdown",
   "id": "47ccf7f6-01c6-46b4-94a1-f8dcd8ef8377",
   "metadata": {},
   "source": [
    "In this assignment we'll be using data from the [TidyTuesday Project](https://github.com/rfordatascience/tidytuesday). Specifically, we'll investigate vaccination rates at US schools. A `CSV` file of the data is located at:  \n",
    "\n",
    "[https://github.com/rfordatascience/tidytuesday/blob/master/data/2020/2020-02-25/measles.csv](https://github.com/rfordatascience/tidytuesday/blob/master/data/2020/2020-02-25/measles.csv)\n",
    "\n",
    "Get the \"raw\" data URL and import it into your `R` session using `read_csv`. Remember to capture the data under a variable name of your choosing!"
   ]
  },
  {
   "cell_type": "code",
   "execution_count": 2,
   "id": "8de37571-29da-4393-b1eb-ca13fcd70fed",
   "metadata": {},
   "outputs": [
    {
     "data": {
      "text/html": [
       "<table class=\"dataframe\">\n",
       "<caption>A tibble: 6 × 16</caption>\n",
       "<thead>\n",
       "\t<tr><th scope=col>index</th><th scope=col>state</th><th scope=col>year</th><th scope=col>name</th><th scope=col>type</th><th scope=col>city</th><th scope=col>county</th><th scope=col>district</th><th scope=col>enroll</th><th scope=col>mmr</th><th scope=col>overall</th><th scope=col>xrel</th><th scope=col>xmed</th><th scope=col>xper</th><th scope=col>lat</th><th scope=col>lng</th></tr>\n",
       "\t<tr><th scope=col>&lt;dbl&gt;</th><th scope=col>&lt;chr&gt;</th><th scope=col>&lt;chr&gt;</th><th scope=col>&lt;chr&gt;</th><th scope=col>&lt;chr&gt;</th><th scope=col>&lt;chr&gt;</th><th scope=col>&lt;chr&gt;</th><th scope=col>&lt;lgl&gt;</th><th scope=col>&lt;dbl&gt;</th><th scope=col>&lt;dbl&gt;</th><th scope=col>&lt;dbl&gt;</th><th scope=col>&lt;lgl&gt;</th><th scope=col>&lt;dbl&gt;</th><th scope=col>&lt;dbl&gt;</th><th scope=col>&lt;dbl&gt;</th><th scope=col>&lt;dbl&gt;</th></tr>\n",
       "</thead>\n",
       "<tbody>\n",
       "\t<tr><td>1</td><td>Arizona</td><td>2018-19</td><td>A J Mitchell Elementary                 </td><td>Public </td><td>Nogales</td><td>Santa Cruz</td><td>NA</td><td>51</td><td>100</td><td>-1</td><td>NA</td><td>  NA</td><td>  NA</td><td>31.34782</td><td>-110.9380</td></tr>\n",
       "\t<tr><td>2</td><td>Arizona</td><td>2018-19</td><td>Academy Del Sol                         </td><td>Charter</td><td>Tucson </td><td>Pima      </td><td>NA</td><td>22</td><td>100</td><td>-1</td><td>NA</td><td>  NA</td><td>  NA</td><td>32.22192</td><td>-110.8961</td></tr>\n",
       "\t<tr><td>3</td><td>Arizona</td><td>2018-19</td><td>Academy Del Sol - Hope                  </td><td>Charter</td><td>Tucson </td><td>Pima      </td><td>NA</td><td>85</td><td>100</td><td>-1</td><td>NA</td><td>  NA</td><td>  NA</td><td>32.13049</td><td>-111.1170</td></tr>\n",
       "\t<tr><td>4</td><td>Arizona</td><td>2018-19</td><td>Academy Of Mathematics And Science South</td><td>Charter</td><td>Phoenix</td><td>Maricopa  </td><td>NA</td><td>60</td><td>100</td><td>-1</td><td>NA</td><td>  NA</td><td>  NA</td><td>33.48545</td><td>-112.1306</td></tr>\n",
       "\t<tr><td>5</td><td>Arizona</td><td>2018-19</td><td>Acclaim Academy                         </td><td>Charter</td><td>Phoenix</td><td>Maricopa  </td><td>NA</td><td>43</td><td>100</td><td>-1</td><td>NA</td><td>2.33</td><td>2.33</td><td>33.49562</td><td>-112.2247</td></tr>\n",
       "\t<tr><td>6</td><td>Arizona</td><td>2018-19</td><td>Alfred F Garcia                         </td><td>Public </td><td>Phoenix</td><td>Maricopa  </td><td>NA</td><td>36</td><td>100</td><td>-1</td><td>NA</td><td>  NA</td><td>  NA</td><td>33.43532</td><td>-112.1168</td></tr>\n",
       "</tbody>\n",
       "</table>\n"
      ],
      "text/latex": [
       "A tibble: 6 × 16\n",
       "\\begin{tabular}{llllllllllllllll}\n",
       " index & state & year & name & type & city & county & district & enroll & mmr & overall & xrel & xmed & xper & lat & lng\\\\\n",
       " <dbl> & <chr> & <chr> & <chr> & <chr> & <chr> & <chr> & <lgl> & <dbl> & <dbl> & <dbl> & <lgl> & <dbl> & <dbl> & <dbl> & <dbl>\\\\\n",
       "\\hline\n",
       "\t 1 & Arizona & 2018-19 & A J Mitchell Elementary                  & Public  & Nogales & Santa Cruz & NA & 51 & 100 & -1 & NA &   NA &   NA & 31.34782 & -110.9380\\\\\n",
       "\t 2 & Arizona & 2018-19 & Academy Del Sol                          & Charter & Tucson  & Pima       & NA & 22 & 100 & -1 & NA &   NA &   NA & 32.22192 & -110.8961\\\\\n",
       "\t 3 & Arizona & 2018-19 & Academy Del Sol - Hope                   & Charter & Tucson  & Pima       & NA & 85 & 100 & -1 & NA &   NA &   NA & 32.13049 & -111.1170\\\\\n",
       "\t 4 & Arizona & 2018-19 & Academy Of Mathematics And Science South & Charter & Phoenix & Maricopa   & NA & 60 & 100 & -1 & NA &   NA &   NA & 33.48545 & -112.1306\\\\\n",
       "\t 5 & Arizona & 2018-19 & Acclaim Academy                          & Charter & Phoenix & Maricopa   & NA & 43 & 100 & -1 & NA & 2.33 & 2.33 & 33.49562 & -112.2247\\\\\n",
       "\t 6 & Arizona & 2018-19 & Alfred F Garcia                          & Public  & Phoenix & Maricopa   & NA & 36 & 100 & -1 & NA &   NA &   NA & 33.43532 & -112.1168\\\\\n",
       "\\end{tabular}\n"
      ],
      "text/markdown": [
       "\n",
       "A tibble: 6 × 16\n",
       "\n",
       "| index &lt;dbl&gt; | state &lt;chr&gt; | year &lt;chr&gt; | name &lt;chr&gt; | type &lt;chr&gt; | city &lt;chr&gt; | county &lt;chr&gt; | district &lt;lgl&gt; | enroll &lt;dbl&gt; | mmr &lt;dbl&gt; | overall &lt;dbl&gt; | xrel &lt;lgl&gt; | xmed &lt;dbl&gt; | xper &lt;dbl&gt; | lat &lt;dbl&gt; | lng &lt;dbl&gt; |\n",
       "|---|---|---|---|---|---|---|---|---|---|---|---|---|---|---|---|\n",
       "| 1 | Arizona | 2018-19 | A J Mitchell Elementary                  | Public  | Nogales | Santa Cruz | NA | 51 | 100 | -1 | NA |   NA |   NA | 31.34782 | -110.9380 |\n",
       "| 2 | Arizona | 2018-19 | Academy Del Sol                          | Charter | Tucson  | Pima       | NA | 22 | 100 | -1 | NA |   NA |   NA | 32.22192 | -110.8961 |\n",
       "| 3 | Arizona | 2018-19 | Academy Del Sol - Hope                   | Charter | Tucson  | Pima       | NA | 85 | 100 | -1 | NA |   NA |   NA | 32.13049 | -111.1170 |\n",
       "| 4 | Arizona | 2018-19 | Academy Of Mathematics And Science South | Charter | Phoenix | Maricopa   | NA | 60 | 100 | -1 | NA |   NA |   NA | 33.48545 | -112.1306 |\n",
       "| 5 | Arizona | 2018-19 | Acclaim Academy                          | Charter | Phoenix | Maricopa   | NA | 43 | 100 | -1 | NA | 2.33 | 2.33 | 33.49562 | -112.2247 |\n",
       "| 6 | Arizona | 2018-19 | Alfred F Garcia                          | Public  | Phoenix | Maricopa   | NA | 36 | 100 | -1 | NA |   NA |   NA | 33.43532 | -112.1168 |\n",
       "\n"
      ],
      "text/plain": [
       "  index state   year    name                                     type   \n",
       "1 1     Arizona 2018-19 A J Mitchell Elementary                  Public \n",
       "2 2     Arizona 2018-19 Academy Del Sol                          Charter\n",
       "3 3     Arizona 2018-19 Academy Del Sol - Hope                   Charter\n",
       "4 4     Arizona 2018-19 Academy Of Mathematics And Science South Charter\n",
       "5 5     Arizona 2018-19 Acclaim Academy                          Charter\n",
       "6 6     Arizona 2018-19 Alfred F Garcia                          Public \n",
       "  city    county     district enroll mmr overall xrel xmed xper lat     \n",
       "1 Nogales Santa Cruz NA       51     100 -1      NA     NA   NA 31.34782\n",
       "2 Tucson  Pima       NA       22     100 -1      NA     NA   NA 32.22192\n",
       "3 Tucson  Pima       NA       85     100 -1      NA     NA   NA 32.13049\n",
       "4 Phoenix Maricopa   NA       60     100 -1      NA     NA   NA 33.48545\n",
       "5 Phoenix Maricopa   NA       43     100 -1      NA   2.33 2.33 33.49562\n",
       "6 Phoenix Maricopa   NA       36     100 -1      NA     NA   NA 33.43532\n",
       "  lng      \n",
       "1 -110.9380\n",
       "2 -110.8961\n",
       "3 -111.1170\n",
       "4 -112.1306\n",
       "5 -112.2247\n",
       "6 -112.1168"
      ]
     },
     "metadata": {},
     "output_type": "display_data"
    },
    {
     "data": {
      "text/plain": [
       "     index         state               year               name          \n",
       " Min.   :   1   Length:66113       Length:66113       Length:66113      \n",
       " 1st Qu.: 429   Class :character   Class :character   Class :character  \n",
       " Median : 997   Mode  :character   Mode  :character   Mode  :character  \n",
       " Mean   :1608                                                           \n",
       " 3rd Qu.:2133                                                           \n",
       " Max.   :8066                                                           \n",
       "                                                                        \n",
       "     type               city              county          district      \n",
       " Length:66113       Length:66113       Length:66113       Mode:logical  \n",
       " Class :character   Class :character   Class :character   NA's:66113    \n",
       " Mode  :character   Mode  :character   Mode  :character                 \n",
       "                                                                        \n",
       "                                                                        \n",
       "                                                                        \n",
       "                                                                        \n",
       "     enroll            mmr            overall         xrel        \n",
       " Min.   :   0.0   Min.   : -1.00   Min.   : -1.00   Mode:logical  \n",
       " 1st Qu.:  46.0   1st Qu.: -1.00   1st Qu.: -1.00   TRUE:109      \n",
       " Median :  80.0   Median : 95.00   Median : 87.00   NA's:66004    \n",
       " Mean   : 131.9   Mean   : 63.17   Mean   : 54.09                 \n",
       " 3rd Qu.: 129.0   3rd Qu.: 98.00   3rd Qu.: 96.10                 \n",
       " Max.   :6222.0   Max.   :100.00   Max.   :100.00                 \n",
       " NA's   :16260                                                    \n",
       "      xmed             xper             lat             lng         \n",
       " Min.   :  0.04   Min.   :  0.17   Min.   :24.55   Min.   :-124.50  \n",
       " 1st Qu.:  1.00   1st Qu.:  2.84   1st Qu.:35.69   1st Qu.:-117.63  \n",
       " Median :  2.00   Median :  5.00   Median :40.21   Median : -89.97  \n",
       " Mean   :  2.91   Mean   :  6.78   Mean   :39.15   Mean   : -96.28  \n",
       " 3rd Qu.:  3.53   3rd Qu.:  7.55   3rd Qu.:42.18   3rd Qu.: -81.75  \n",
       " Max.   :100.00   Max.   :169.23   Max.   :49.00   Max.   :  80.21  \n",
       " NA's   :45122    NA's   :57560    NA's   :1549    NA's   :1549     "
      ]
     },
     "metadata": {},
     "output_type": "display_data"
    }
   ],
   "source": [
    "hw3<- read_csv(\n",
    "    'https://raw.githubusercontent.com/rfordatascience/tidytuesday/refs/heads/master/data/2020/2020-02-25/measles.csv'\n",
    "    ,col_types = cols()) \n",
    "head(hw3)\n",
    "\n",
    "summary(hw3)\n"
   ]
  },
  {
   "cell_type": "markdown",
   "id": "feb89cec-8cda-457d-95cf-89dbfa932ab4",
   "metadata": {},
   "source": [
    "The `mmr` column has holds 🤒 measles, mumps, rubella 🤒 vaccination rates for students in each respective school. **If the `mmr` value is not available for a school the `mmr` value is set to -1 in this data set.** \n",
    "\n",
    "The target `mmr` vaccination rate as [recommended by the CDC](https://www.cdc.gov/mmwr/preview/mmwrhtml/mm5632a3.htm) for schools is 95%. \n",
    "\n",
    "**Calculate the fraction of schools per state that have vaccination rates greater than the CDC 95%. Capture the output as a table called `df_vacc_rates`.**\n",
    "\n",
    "You'll need to do use `filter`, `group_by`, and `summarize`. \n",
    "\n",
    "I.e.\n",
    "1. Filter out schools that don't report `mmr` vaccination rate (keep schools where `mmr >= 0`).\n",
    "1. Group the data by `state`.\n",
    "1. Summarize fracion of vaccination rates above 95%.\n",
    "\n",
    "💡Remember `n()` stands for the number or records in a group. Also, `sum(mmr >= 95, na.rm=TRUE)` will count the number of values above or equal to 95.💡"
   ]
  },
  {
   "cell_type": "code",
   "execution_count": 3,
   "id": "0ba9a861-00fc-4392-a67d-cddbd5a994e0",
   "metadata": {},
   "outputs": [
    {
     "data": {
      "text/html": [
       "<table class=\"dataframe\">\n",
       "<caption>A tibble: 21 × 2</caption>\n",
       "<thead>\n",
       "\t<tr><th scope=col>state</th><th scope=col>vacc_rates_in_percent</th></tr>\n",
       "\t<tr><th scope=col>&lt;chr&gt;</th><th scope=col>&lt;dbl&gt;</th></tr>\n",
       "</thead>\n",
       "<tbody>\n",
       "\t<tr><td>Arizona      </td><td>50.6404782</td></tr>\n",
       "\t<tr><td>Arkansas     </td><td> 0.3527337</td></tr>\n",
       "\t<tr><td>California   </td><td>88.8506151</td></tr>\n",
       "\t<tr><td>Colorado     </td><td>62.3092236</td></tr>\n",
       "\t<tr><td>Connecticut  </td><td>81.1544992</td></tr>\n",
       "\t<tr><td>Illinois     </td><td>89.6825397</td></tr>\n",
       "\t<tr><td>Maine        </td><td>47.3389356</td></tr>\n",
       "\t<tr><td>Massachusetts</td><td>86.5828092</td></tr>\n",
       "\t<tr><td>Minnesota    </td><td>47.3948525</td></tr>\n",
       "\t<tr><td>Missouri     </td><td>68.0000000</td></tr>\n",
       "\t<tr><td>Montana      </td><td>70.8812261</td></tr>\n",
       "\t<tr><td>New York     </td><td>85.9822073</td></tr>\n",
       "\t<tr><td>North Dakota </td><td>45.5555556</td></tr>\n",
       "\t<tr><td>Ohio         </td><td>49.1606715</td></tr>\n",
       "\t<tr><td>Oregon       </td><td>59.3052109</td></tr>\n",
       "\t<tr><td>Pennsylvania </td><td>83.4966478</td></tr>\n",
       "\t<tr><td>South Dakota </td><td>74.2627346</td></tr>\n",
       "\t<tr><td>Texas        </td><td>62.6387176</td></tr>\n",
       "\t<tr><td>Utah         </td><td>67.9933665</td></tr>\n",
       "\t<tr><td>Vermont      </td><td>68.3431953</td></tr>\n",
       "\t<tr><td>Washington   </td><td>32.6592518</td></tr>\n",
       "</tbody>\n",
       "</table>\n"
      ],
      "text/latex": [
       "A tibble: 21 × 2\n",
       "\\begin{tabular}{ll}\n",
       " state & vacc\\_rates\\_in\\_percent\\\\\n",
       " <chr> & <dbl>\\\\\n",
       "\\hline\n",
       "\t Arizona       & 50.6404782\\\\\n",
       "\t Arkansas      &  0.3527337\\\\\n",
       "\t California    & 88.8506151\\\\\n",
       "\t Colorado      & 62.3092236\\\\\n",
       "\t Connecticut   & 81.1544992\\\\\n",
       "\t Illinois      & 89.6825397\\\\\n",
       "\t Maine         & 47.3389356\\\\\n",
       "\t Massachusetts & 86.5828092\\\\\n",
       "\t Minnesota     & 47.3948525\\\\\n",
       "\t Missouri      & 68.0000000\\\\\n",
       "\t Montana       & 70.8812261\\\\\n",
       "\t New York      & 85.9822073\\\\\n",
       "\t North Dakota  & 45.5555556\\\\\n",
       "\t Ohio          & 49.1606715\\\\\n",
       "\t Oregon        & 59.3052109\\\\\n",
       "\t Pennsylvania  & 83.4966478\\\\\n",
       "\t South Dakota  & 74.2627346\\\\\n",
       "\t Texas         & 62.6387176\\\\\n",
       "\t Utah          & 67.9933665\\\\\n",
       "\t Vermont       & 68.3431953\\\\\n",
       "\t Washington    & 32.6592518\\\\\n",
       "\\end{tabular}\n"
      ],
      "text/markdown": [
       "\n",
       "A tibble: 21 × 2\n",
       "\n",
       "| state &lt;chr&gt; | vacc_rates_in_percent &lt;dbl&gt; |\n",
       "|---|---|\n",
       "| Arizona       | 50.6404782 |\n",
       "| Arkansas      |  0.3527337 |\n",
       "| California    | 88.8506151 |\n",
       "| Colorado      | 62.3092236 |\n",
       "| Connecticut   | 81.1544992 |\n",
       "| Illinois      | 89.6825397 |\n",
       "| Maine         | 47.3389356 |\n",
       "| Massachusetts | 86.5828092 |\n",
       "| Minnesota     | 47.3948525 |\n",
       "| Missouri      | 68.0000000 |\n",
       "| Montana       | 70.8812261 |\n",
       "| New York      | 85.9822073 |\n",
       "| North Dakota  | 45.5555556 |\n",
       "| Ohio          | 49.1606715 |\n",
       "| Oregon        | 59.3052109 |\n",
       "| Pennsylvania  | 83.4966478 |\n",
       "| South Dakota  | 74.2627346 |\n",
       "| Texas         | 62.6387176 |\n",
       "| Utah          | 67.9933665 |\n",
       "| Vermont       | 68.3431953 |\n",
       "| Washington    | 32.6592518 |\n",
       "\n"
      ],
      "text/plain": [
       "   state         vacc_rates_in_percent\n",
       "1  Arizona       50.6404782           \n",
       "2  Arkansas       0.3527337           \n",
       "3  California    88.8506151           \n",
       "4  Colorado      62.3092236           \n",
       "5  Connecticut   81.1544992           \n",
       "6  Illinois      89.6825397           \n",
       "7  Maine         47.3389356           \n",
       "8  Massachusetts 86.5828092           \n",
       "9  Minnesota     47.3948525           \n",
       "10 Missouri      68.0000000           \n",
       "11 Montana       70.8812261           \n",
       "12 New York      85.9822073           \n",
       "13 North Dakota  45.5555556           \n",
       "14 Ohio          49.1606715           \n",
       "15 Oregon        59.3052109           \n",
       "16 Pennsylvania  83.4966478           \n",
       "17 South Dakota  74.2627346           \n",
       "18 Texas         62.6387176           \n",
       "19 Utah          67.9933665           \n",
       "20 Vermont       68.3431953           \n",
       "21 Washington    32.6592518           "
      ]
     },
     "metadata": {},
     "output_type": "display_data"
    }
   ],
   "source": [
    "# create the df_vacc_rates here\n",
    " \n",
    "df_vacc_rates<- hw3 |>\n",
    "filter(mmr>= 0) |>\n",
    "group_by(state) |>\n",
    "summarize(vacc_rates_in_percent=sum(mmr >= 95, na.rm=TRUE)/n()*100)\n",
    "\n",
    "df_vacc_rates"
   ]
  },
  {
   "cell_type": "markdown",
   "id": "900ddf7f-d801-4a70-9453-73bdd3277344",
   "metadata": {},
   "source": [
    "Which state (of those that report `mmr`) has the smallest fraction of schools above the CDC target vaccination rate of 95%?  "
   ]
  },
  {
   "cell_type": "code",
   "execution_count": 4,
   "id": "13812611-a534-46c2-aae6-0f6c645273e0",
   "metadata": {},
   "outputs": [
    {
     "data": {
      "text/html": [
       "<table class=\"dataframe\">\n",
       "<caption>A tibble: 1 × 2</caption>\n",
       "<thead>\n",
       "\t<tr><th scope=col>state</th><th scope=col>vacc_rates_in_percent</th></tr>\n",
       "\t<tr><th scope=col>&lt;chr&gt;</th><th scope=col>&lt;dbl&gt;</th></tr>\n",
       "</thead>\n",
       "<tbody>\n",
       "\t<tr><td>Arkansas</td><td>0.3527337</td></tr>\n",
       "</tbody>\n",
       "</table>\n"
      ],
      "text/latex": [
       "A tibble: 1 × 2\n",
       "\\begin{tabular}{ll}\n",
       " state & vacc\\_rates\\_in\\_percent\\\\\n",
       " <chr> & <dbl>\\\\\n",
       "\\hline\n",
       "\t Arkansas & 0.3527337\\\\\n",
       "\\end{tabular}\n"
      ],
      "text/markdown": [
       "\n",
       "A tibble: 1 × 2\n",
       "\n",
       "| state &lt;chr&gt; | vacc_rates_in_percent &lt;dbl&gt; |\n",
       "|---|---|\n",
       "| Arkansas | 0.3527337 |\n",
       "\n"
      ],
      "text/plain": [
       "  state    vacc_rates_in_percent\n",
       "1 Arkansas 0.3527337            "
      ]
     },
     "metadata": {},
     "output_type": "display_data"
    }
   ],
   "source": [
    "df_vacc_rates |> \n",
    "arrange(vacc_rates_in_percent) |>\n",
    "head(1)"
   ]
  },
  {
   "cell_type": "markdown",
   "id": "2866ca03-1f87-466e-ab0a-dd69140496e6",
   "metadata": {},
   "source": [
    "**Make a ECDF plot of the school vaccination rates in North Carolina.** Use the `overall` column which reports the \"overall\" vaccination rate at each school.\n",
    "\n",
    "❗️Remember, you can calculate the `y` value for ECDF charts using `mutate`, and `cume_dist`."
   ]
  },
  {
   "cell_type": "code",
   "execution_count": 32,
   "id": "478c5949-b5cb-4a4c-9915-6201427248c1",
   "metadata": {},
   "outputs": [
    {
     "data": {
      "image/png": "[encoded data removed]",
      "text/plain": [
       "plot without title"
      ]
     },
     "metadata": {
      "image/png": {
       "height": 420,
       "width": 420
      }
     },
     "output_type": "display_data"
    }
   ],
   "source": [
    "hw3 |>\n",
    "filter( state=='North Carolina') |>\n",
    "mutate(cumulative_dist=cume_dist(overall)) |>\n",
    "ggplot(aes(x=overall, y=cumulative_dist)) + \n",
    "geom_line(color='darkblue') + \n",
    "geom_point(color='darkblue') +\n",
    "geom_vline(xintercept=95, color='lightblue', linetype = \"dashed\") +\n",
    "annotate(\"text\", x = 60, y = 0.75, label = \"CDC recommended\\nvaccination rate\\n(95%)\", \n",
    "           color = \"gray30\", hjust = 0, size=6) +\n",
    "labs(x = \"Vaccination rate (%)\", y = \"Fraction of schools\") +\n",
    "scale_x_continuous(labels = percent_format(scale = 1)) + \n",
    "  theme_minimal() +\n",
    "  theme(\n",
    "    text = element_text(size = 14),\n",
    "    axis.title = element_text(face = \"bold\")\n",
    "  )"
   ]
  },
  {
   "cell_type": "markdown",
   "id": "8f5ea83f-c904-46ee-9f52-af1bd1afbc96",
   "metadata": {},
   "source": [
    "(My solution is below if you want to peek 👀. Uncomment the code, change the cell to `markdown`, and exectute it. I used `geom_text_repel` from [ggrepel](https://cran.r-project.org/web/packages/ggrepel/vignettes/ggrepel.html) fo the annotation.)"
   ]
  },
  {
   "cell_type": "markdown",
   "id": "28c8ae2d-23a9-4773-9ce3-c0b50ca6ef8d",
   "metadata": {},
   "source": [
    "<!-- ![](https://github.com/chuckpr/BIOS512/blob/main/assignments/2023/measles-chart.png?raw=true) -->"
   ]
  },
  {
   "cell_type": "markdown",
   "id": "d2041941-dcee-42e8-957f-a725dc36388f",
   "metadata": {},
   "source": [
    "Is the median vaccination rate for NC schools above the CDC recommended target?"
   ]
  },
  {
   "cell_type": "markdown",
   "id": "69555ac5-b347-4c77-86f6-2e2b87111c85",
   "metadata": {},
   "source": [
    "The median vaccination rate for NC schools is above the CDC recommended target (95%) because nearly 87% of the NC schools has vaccination rate more than 95%. "
   ]
  }
 ],
 "metadata": {
  "kernelspec": {
   "display_name": ".conda-bios512:R",
   "language": "R",
   "name": "conda-env-.conda-bios512-r"
  },
  "language_info": {
   "codemirror_mode": "r",
   "file_extension": ".r",
   "mimetype": "text/x-r-source",
   "name": "R",
   "pygments_lexer": "r",
   "version": "4.4.1"
  }
 },
 "nbformat": 4,
 "nbformat_minor": 5
}
